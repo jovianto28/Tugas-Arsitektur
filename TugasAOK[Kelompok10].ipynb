{
 "cells": [
  {
   "cell_type": "code",
   "execution_count": null,
   "metadata": {
    "slideshow": {
     "slide_type": "slide"
    }
   },
   "outputs": [],
   "source": [
    "print('Input / Output Device')\n",
    "\n",
    "print('Kelompok 10')\n",
    "\n",
    "print('Nama Anggota :')\n",
    "print('1.Christina Manoppo        [19101106032]')\n",
    "print('2.Istiqomah Br Karo Sekali [19101106020]')\n",
    "print('3.Jovianto Dumalang        [19101106016]')\n",
    "print('4.Miracle Dengah           [19101106022]')\n",
    "print('5.Riyanto Tangke (Ketua)   [19101106006]')"
   ]
  },
  {
   "cell_type": "code",
   "execution_count": null,
   "metadata": {
    "scrolled": true,
    "slideshow": {
     "slide_type": "slide"
    }
   },
   "outputs": [],
   "source": [
    "print('Pengertian I/O Device')\n",
    "print('I/O adalah Suatu perangkat yg berhubungan dengan sistem komputer dengan cara mengirim sinyal melalui suatu kabel atau bahkan melalui udara.')\n",
    "print('I/O  merupakan salah satu komponen computer yang penting, I/O devices menjadikan komputer berguna bagi manusia, Sebuah sistem kontrol I/O bertujuan untuk memberikan bantuan kepada user untuk memungkinkan mereka mengakses berkas, tanpa memperhatikan detail dari karakteristik dan waktu penyimpanan.')"
   ]
  },
  {
   "cell_type": "code",
   "execution_count": null,
   "metadata": {
    "slideshow": {
     "slide_type": "slide"
    }
   },
   "outputs": [],
   "source": [
    "print ('INPUT DEVICE')\n",
    "    \n",
    "print ('Pengertian Input Device')\n",
    "\n",
    "print('Perangkat input adalah perangkat yang digunakan untuk memasukkan data atau perintah ke dalam komputer.') "
   ]
  },
  {
   "cell_type": "code",
   "execution_count": null,
   "metadata": {
    "slideshow": {
     "slide_type": "subslide"
    }
   },
   "outputs": [],
   "source": [
    "print ('1. Keyboard')\n",
    "from IPython.display import Image\n",
    "Image(filename=\"Keyboard1.jpg\", width=400, height=400)"
   ]
  },
  {
   "cell_type": "code",
   "execution_count": null,
   "metadata": {
    "slideshow": {
     "slide_type": "subslide"
    }
   },
   "outputs": [],
   "source": [
    "print('2. Mouse')\n",
    "print('Peranti masukan dengan bentuk seperti tikus ini berfungsi untuk memindahkan pointer atau kursor secara cepat')\n",
    "\n",
    "from IPython.display import Image\n",
    "Image(filename=\"Mouse.jpg\", width=250, height=250)"
   ]
  },
  {
   "cell_type": "code",
   "execution_count": null,
   "metadata": {},
   "outputs": [],
   "source": [
    "print('3. Scanner')\n",
    "print('berfungsi untuk menyalin (copy) file atau dokumen baik berupa teks atau gambar menjadi teks atau gambar digital.')\n",
    "\n",
    "from IPython.display import Image\n",
    "Image(filename=\"Scanner.jpg\", width=300, height=300)"
   ]
  },
  {
   "cell_type": "code",
   "execution_count": null,
   "metadata": {},
   "outputs": [],
   "source": [
    "print('4. Barcode Scanner')\n",
    "print('berfungsi untuk membaca suatu kode yang berbentuk kotak atau garis-garis vertikal tipis dan tebal yang selanjutnya') \n",
    "print('diterjemahkan dalam bentuk angka-angka.')\n",
    "\n",
    "from IPython.display import Image\n",
    "Image(filename=\"Barcode.jpg\", width=300, height=300)"
   ]
  },
  {
   "cell_type": "code",
   "execution_count": null,
   "metadata": {},
   "outputs": [],
   "source": [
    "print ('OUTPUT DEVICE')\n",
    "    \n",
    "print('Pengertian Input Device')\n",
    "\n",
    "print('Output Device yaitu perangkat keras yang berfungsi untuk mengeluarkan data yang telah diproses sehingga') \n",
    "print('menjadi suatu informasi.')\n",
    "\n",
    "print('Yang termasuk perangkat output diantaranya :')\n",
    "print('Alat keluaran juga dapat berbentuk :')      \n",
    "print(' 1. Hard copy device')\n",
    "print(' 2. Soft copy device')\n"
   ]
  },
  {
   "cell_type": "code",
   "execution_count": null,
   "metadata": {},
   "outputs": [],
   "source": [
    "print('a.Hard Copy Device')\n",
    "print('Merupakan alat keluaran yang digunakan untuk mencetak tulisan, grafik, atau gambar pada media pencetak')\n",
    "print('')\n",
    "print('1. Printer')\n",
    "print('   Peralatan dari komputer yang dapat mencetak teks atau gambar ke media kertas atau media lainnya seperti') \n",
    "print('   kertas transparansi.')\n",
    "\n",
    "from IPython.display import Image\n",
    "Image(filename=\"Printer.jpg\", width=300, height=300)"
   ]
  },
  {
   "cell_type": "code",
   "execution_count": 2,
   "metadata": {},
   "outputs": [
    {
     "name": "stdout",
     "output_type": "stream",
     "text": [
      "1. Plotter\n",
      "   Plotter adalah alat yang digunakan untuk mencetak gambar dengan ukauran besar.\n"
     ]
    },
    {
     "data": {
      "image/jpeg": "[encoded data removed]",
      "text/plain": [
       "<IPython.core.display.Image object>"
      ]
     },
     "execution_count": 2,
     "metadata": {
      "image/jpeg": {
       "height": 300,
       "width": 300
      }
     },
     "output_type": "execute_result"
    }
   ],
   "source": [
    "print('1. Plotter')\n",
    "print('   Plotter adalah alat yang digunakan untuk mencetak gambar dengan ukauran besar.')\n",
    "\n",
    "from IPython.display import Image\n",
    "Image(filename=\"Plotter.jpg\", width=300, height=300)"
   ]
  },
  {
   "cell_type": "code",
   "execution_count": 10,
   "metadata": {},
   "outputs": [
    {
     "name": "stdout",
     "output_type": "stream",
     "text": [
      "b. Soft Copy Device\n",
      "   Merupakan alat yang digunakan untuk menampilkan tulisan, image, dan suara pada media soft (lunak) yang berupa sinyal\n",
      "   elektronik.\n",
      "1. Monitor\n",
      "   Monitor merupakan unit keluaran yang memberikan informasi kepada pengguna computer dari hasil peoses dan masih dalam\n",
      "   bentuk softcopy.\n"
     ]
    },
    {
     "data": {
      "image/jpeg": "[encoded data removed]",
      "text/plain": [
       "<IPython.core.display.Image object>"
      ]
     },
     "execution_count": 10,
     "metadata": {
      "image/jpeg": {
       "height": 300,
       "width": 300
      }
     },
     "output_type": "execute_result"
    }
   ],
   "source": [
    "print('b. Soft Copy Device')\n",
    "print('   Merupakan alat yang digunakan untuk menampilkan tulisan, image, dan suara pada media soft (lunak) yang berupa sinyal') \n",
    "print('   elektronik.')\n",
    "print('1. Monitor')\n",
    "print('   Monitor merupakan unit keluaran yang memberikan informasi kepada pengguna computer dari hasil peoses dan masih dalam') \n",
    "print('   bentuk softcopy.')\n",
    "\n",
    "from IPython.display import Image\n",
    "Image(filename=\"Monitor1.jpg\", width=300, height=300)"
   ]
  },
  {
   "cell_type": "code",
   "execution_count": 6,
   "metadata": {},
   "outputs": [
    {
     "name": "stdout",
     "output_type": "stream",
     "text": [
      "2. Monitor\n",
      "   Speaker, merupakan peralatan yang memberkan keluaran dalam bentuk suara\n"
     ]
    },
    {
     "data": {
      "image/jpeg": "[encoded data removed]",
      "text/plain": [
       "<IPython.core.display.Image object>"
      ]
     },
     "execution_count": 6,
     "metadata": {
      "image/jpeg": {
       "height": 300,
       "width": 300
      }
     },
     "output_type": "execute_result"
    }
   ],
   "source": [
    "print('2. Speaker')\n",
    "print('   Speaker, merupakan peralatan yang memberkan keluaran dalam bentuk suara')\n",
    "\n",
    "from IPython.display import Image\n",
    "Image(filename=\"Speaker.jpg\", width=300, height=300)"
   ]
  },
  {
   "cell_type": "code",
   "execution_count": 12,
   "metadata": {},
   "outputs": [
    {
     "name": "stdout",
     "output_type": "stream",
     "text": [
      "Jenis-jenis Perangkat I/O\n",
      "Secara umum, terdapat beberapa jenis perangkat I/O, seperti :\n",
      "·  perangkat penyimpanan (disk, tape)\n",
      "·  perangkat transmisi (network card, modem) dan\n",
      "·  perangkat antarmuka dengan pengguna (screen, keyboard, mouse).\n"
     ]
    }
   ],
   "source": [
    "print('Jenis-jenis Perangkat I/O')\n",
    "print('Secara umum, terdapat beberapa jenis perangkat I/O, seperti :')\n",
    "print('·  perangkat penyimpanan (disk, tape)')\n",
    "print('·  perangkat transmisi (network card, modem) dan')\n",
    "print('·  perangkat antarmuka dengan pengguna (screen, keyboard, mouse).')\n"
   ]
  },
  {
   "cell_type": "code",
   "execution_count": null,
   "metadata": {},
   "outputs": [],
   "source": []
  }
 ],
 "metadata": {
  "celltoolbar": "Slideshow",
  "kernelspec": {
   "display_name": "Python 3",
   "language": "python",
   "name": "python3"
  },
  "language_info": {
   "codemirror_mode": {
    "name": "ipython",
    "version": 3
   },
   "file_extension": ".py",
   "mimetype": "text/x-python",
   "name": "python",
   "nbconvert_exporter": "python",
   "pygments_lexer": "ipython3",
   "version": "3.7.4"
  }
 },
 "nbformat": 4,
 "nbformat_minor": 2
}
